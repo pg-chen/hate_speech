{
 "cells": [
  {
   "cell_type": "code",
   "execution_count": 10,
   "metadata": {},
   "outputs": [],
   "source": [
    "import pandas as pd\n",
    "jeff = pd.read_csv(\"hate_sampling/hate_sampling_jeff.csv\")\n",
    "tomato = pd.read_csv(\"hate_sampling/hate_sampling_tomato.csv\")\n",
    "pg = pd.read_csv(\"hate_sampling/hate_sampling_pg.csv\")"
   ]
  },
  {
   "cell_type": "code",
   "execution_count": 11,
   "metadata": {},
   "outputs": [],
   "source": [
    "jeff_cate = jeff['hate_categories']\n",
    "tomato_cate = tomato['hate_categories']\n",
    "pg_cate = pg['hate_categories']\n",
    "\n",
    "jeff_Deg = jeff['hate_degree']\n",
    "tomato_Deg = tomato['hate_degree']\n",
    "pg_Deg = pg['hate_degree']"
   ]
  },
  {
   "cell_type": "code",
   "execution_count": 26,
   "metadata": {},
   "outputs": [
    {
     "name": "stdout",
     "output_type": "stream",
     "text": [
      "標記類別一致性\n",
      "紹丞&品均 0.6324025547573264\n",
      "紹丞&盛傑 0.6128414817252765\n",
      "盛傑&品均 0.5585791530751957\n"
     ]
    }
   ],
   "source": [
    "from sklearn.metrics import cohen_kappa_score\n",
    "print(\"標記類別一致性\")\n",
    "print(\"紹丞&品均\",cohen_kappa_score(jeff_cate, pg_cate))\n",
    "print(\"紹丞&盛傑\",cohen_kappa_score(jeff_cate, tomato_cate))\n",
    "print(\"盛傑&品均\",cohen_kappa_score(tomato_cate, pg_cate))"
   ]
  },
  {
   "cell_type": "code",
   "execution_count": 27,
   "metadata": {},
   "outputs": [
    {
     "name": "stdout",
     "output_type": "stream",
     "text": [
      "仇恨程度一致性\n",
      "紹丞&品均 0.426581029836958\n",
      "紹丞&盛傑 0.3049119071021933\n",
      "盛傑&品均 0.5796590843479308\n"
     ]
    }
   ],
   "source": [
    "print(\"仇恨程度一致性\")\n",
    "print(\"紹丞&品均\",cohen_kappa_score(jeff_Deg, pg_Deg))\n",
    "print(\"紹丞&盛傑\",cohen_kappa_score(jeff_Deg, tomato_Deg))\n",
    "print(\"盛傑&品均\",cohen_kappa_score(tomato_Deg, pg_Deg))"
   ]
  },
  {
   "cell_type": "code",
   "execution_count": 31,
   "metadata": {},
   "outputs": [],
   "source": [
    "jeff = pd.read_csv(\"hate_sampling/hate_sampling_jeff_2.csv\")\n",
    "tomato = pd.read_csv(\"hate_sampling/hate_sampling_tomato_2.csv\")\n",
    "pg = pd.read_csv(\"hate_sampling/hate_sampling_pg_2.csv\")"
   ]
  },
  {
   "cell_type": "code",
   "execution_count": 32,
   "metadata": {},
   "outputs": [],
   "source": [
    "jeff_cate = jeff['hate_categories']\n",
    "tomato_cate = tomato['hate_categories']\n",
    "pg_cate = pg['hate_categories']\n",
    "\n",
    "jeff_Deg = jeff['hate_degree']\n",
    "tomato_Deg = tomato['hate_degree']\n",
    "pg_Deg = pg['hate_degree']"
   ]
  },
  {
   "cell_type": "code",
   "execution_count": 33,
   "metadata": {},
   "outputs": [
    {
     "name": "stdout",
     "output_type": "stream",
     "text": [
      "標記類別一致性\n",
      "紹丞&品均 0.7929235722000776\n",
      "紹丞&盛傑 0.7725920060393393\n",
      "盛傑&品均 0.742678503009429\n",
      "仇恨程度一致性\n",
      "紹丞&品均 0.6640948625806975\n",
      "紹丞&盛傑 0.5907330038169514\n",
      "盛傑&品均 0.7551170506631752\n"
     ]
    }
   ],
   "source": [
    "print(\"標記類別一致性\")\n",
    "print(\"紹丞&品均\",cohen_kappa_score(jeff_cate, pg_cate))\n",
    "print(\"紹丞&盛傑\",cohen_kappa_score(jeff_cate, tomato_cate))\n",
    "print(\"盛傑&品均\",cohen_kappa_score(tomato_cate, pg_cate))\n",
    "print(\"仇恨程度一致性\")\n",
    "print(\"紹丞&品均\",cohen_kappa_score(jeff_Deg, pg_Deg))\n",
    "print(\"紹丞&盛傑\",cohen_kappa_score(jeff_Deg, tomato_Deg))\n",
    "print(\"盛傑&品均\",cohen_kappa_score(tomato_Deg, pg_Deg))"
   ]
  },
  {
   "cell_type": "code",
   "execution_count": 11,
   "metadata": {},
   "outputs": [],
   "source": [
    "import pandas as pd\n",
    "import numpy as np\n",
    "dataset = pd.read_csv(\"hate_sampling/hate_sampling_標記合併.csv\", encoding='utf-8-sig')"
   ]
  },
  {
   "cell_type": "code",
   "execution_count": 7,
   "metadata": {},
   "outputs": [
    {
     "data": {
      "text/plain": [
       "Index(['index', 'href', 'id', 'contents', 'key', 'date', 'contents_order',\n",
       "       'hate', 'categories_1', 'degree_1', 'categories_2', 'degree_2',\n",
       "       'categories_3', 'degree_3'],\n",
       "      dtype='object')"
      ]
     },
     "execution_count": 7,
     "metadata": {},
     "output_type": "execute_result"
    }
   ],
   "source": [
    "dataset.columns"
   ]
  },
  {
   "cell_type": "code",
   "execution_count": 10,
   "metadata": {},
   "outputs": [],
   "source": [
    "def Majority(a,b,c):\n",
    "    if (a == b) and (b == c):\n",
    "        return a\n",
    "    elif (a == b) and (a != c):\n",
    "        return a\n",
    "    elif (a == c) and (a != b):\n",
    "        return a\n",
    "    elif (b == c) and (b != a):\n",
    "        return b\n",
    "    else:\n",
    "        return \"diff\""
   ]
  },
  {
   "cell_type": "code",
   "execution_count": 12,
   "metadata": {},
   "outputs": [],
   "source": [
    "dataset['categories'] = dataset.apply(lambda x: Majority(x['categories_1'],x['categories_2'],x['categories_3']),axis=1)"
   ]
  },
  {
   "cell_type": "code",
   "execution_count": 13,
   "metadata": {},
   "outputs": [],
   "source": [
    "dataset['degree'] = dataset.apply(lambda x: Majority(x['degree_1'],x['degree_2'],x['degree_3']),axis=1)"
   ]
  },
  {
   "cell_type": "code",
   "execution_count": 14,
   "metadata": {},
   "outputs": [],
   "source": [
    "dataset.to_csv(\"hate_sampling/hate_sampling2.csv\", index=False, encoding='utf-8-sig')"
   ]
  },
  {
   "cell_type": "code",
   "execution_count": 6,
   "metadata": {},
   "outputs": [],
   "source": [
    "import pandas as pd\n",
    "import numpy as np\n",
    "dataset = pd.read_csv(\"hate_sampling/hate_sampling2.csv\", encoding='utf-8-sig')"
   ]
  },
  {
   "cell_type": "code",
   "execution_count": 7,
   "metadata": {},
   "outputs": [],
   "source": [
    "dataset['contents'] = dataset['contents'].str.replace(\" \", \"\")"
   ]
  },
  {
   "cell_type": "code",
   "execution_count": 9,
   "metadata": {},
   "outputs": [],
   "source": [
    "dataset.to_csv(\"hate_sampling/hate_sampling3.csv\", index=False, encoding='utf-8-sig')"
   ]
  },
  {
   "cell_type": "code",
   "execution_count": null,
   "metadata": {},
   "outputs": [],
   "source": []
  }
 ],
 "metadata": {
  "interpreter": {
   "hash": "082e9a3bcad0a290d0001e938aa60b99250c6c2ef33a923c00b70f9826caf4b7"
  },
  "kernelspec": {
   "display_name": "Python 3.8.6 64-bit",
   "language": "python",
   "name": "python3"
  },
  "language_info": {
   "codemirror_mode": {
    "name": "ipython",
    "version": 3
   },
   "file_extension": ".py",
   "mimetype": "text/x-python",
   "name": "python",
   "nbconvert_exporter": "python",
   "pygments_lexer": "ipython3",
   "version": "3.8.6"
  },
  "orig_nbformat": 4
 },
 "nbformat": 4,
 "nbformat_minor": 2
}
